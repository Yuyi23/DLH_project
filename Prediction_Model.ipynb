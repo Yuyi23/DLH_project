{
 "cells": [
  {
   "cell_type": "code",
   "execution_count": 1,
   "id": "23d35a3d",
   "metadata": {},
   "outputs": [],
   "source": [
    "import pandas as pd\n",
    "import numpy as np"
   ]
  },
  {
   "cell_type": "code",
   "execution_count": 2,
   "id": "f8198bbd",
   "metadata": {},
   "outputs": [
    {
     "data": {
      "text/html": [
       "<div>\n",
       "<style scoped>\n",
       "    .dataframe tbody tr th:only-of-type {\n",
       "        vertical-align: middle;\n",
       "    }\n",
       "\n",
       "    .dataframe tbody tr th {\n",
       "        vertical-align: top;\n",
       "    }\n",
       "\n",
       "    .dataframe thead th {\n",
       "        text-align: right;\n",
       "    }\n",
       "</style>\n",
       "<table border=\"1\" class=\"dataframe\">\n",
       "  <thead>\n",
       "    <tr style=\"text-align: right;\">\n",
       "      <th></th>\n",
       "      <th>TEXT</th>\n",
       "      <th>ICD9_CHAPTER</th>\n",
       "    </tr>\n",
       "  </thead>\n",
       "  <tbody>\n",
       "    <tr>\n",
       "      <th>0</th>\n",
       "      <td>81 yo F smoker w/ COPD, severe TBM, s/p trache...</td>\n",
       "      <td>390-459</td>\n",
       "    </tr>\n",
       "    <tr>\n",
       "      <th>1</th>\n",
       "      <td>COPD exacerbation/Shortness of Breath</td>\n",
       "      <td>390-459</td>\n",
       "    </tr>\n",
       "    <tr>\n",
       "      <th>2</th>\n",
       "      <td>Mr. [**Known lastname 1829**] was seen at [**H...</td>\n",
       "      <td>520-579</td>\n",
       "    </tr>\n",
       "    <tr>\n",
       "      <th>3</th>\n",
       "      <td>Meningioma</td>\n",
       "      <td>240-279</td>\n",
       "    </tr>\n",
       "    <tr>\n",
       "      <th>4</th>\n",
       "      <td>Hypoxia</td>\n",
       "      <td>390-459</td>\n",
       "    </tr>\n",
       "    <tr>\n",
       "      <th>...</th>\n",
       "      <td>...</td>\n",
       "      <td>...</td>\n",
       "    </tr>\n",
       "    <tr>\n",
       "      <th>75935</th>\n",
       "      <td>Diarrhea and weakness</td>\n",
       "      <td>460-519</td>\n",
       "    </tr>\n",
       "    <tr>\n",
       "      <th>75936</th>\n",
       "      <td>low back pain</td>\n",
       "      <td>290-319</td>\n",
       "    </tr>\n",
       "    <tr>\n",
       "      <th>75937</th>\n",
       "      <td>hemoptysis</td>\n",
       "      <td>460-519</td>\n",
       "    </tr>\n",
       "    <tr>\n",
       "      <th>75938</th>\n",
       "      <td>Unresponsiveness</td>\n",
       "      <td>800-999</td>\n",
       "    </tr>\n",
       "    <tr>\n",
       "      <th>75939</th>\n",
       "      <td>change in mental status</td>\n",
       "      <td>460-519</td>\n",
       "    </tr>\n",
       "  </tbody>\n",
       "</table>\n",
       "<p>75940 rows × 2 columns</p>\n",
       "</div>"
      ],
      "text/plain": [
       "                                                    TEXT ICD9_CHAPTER\n",
       "0      81 yo F smoker w/ COPD, severe TBM, s/p trache...      390-459\n",
       "1                  COPD exacerbation/Shortness of Breath      390-459\n",
       "2      Mr. [**Known lastname 1829**] was seen at [**H...      520-579\n",
       "3                                             Meningioma      240-279\n",
       "4                                                Hypoxia      390-459\n",
       "...                                                  ...          ...\n",
       "75935                           Diarrhea and weakness         460-519\n",
       "75936                                   low back pain         290-319\n",
       "75937                                      hemoptysis         460-519\n",
       "75938                                Unresponsiveness         800-999\n",
       "75939                         change in mental status         460-519\n",
       "\n",
       "[75940 rows x 2 columns]"
      ]
     },
     "execution_count": 2,
     "metadata": {},
     "output_type": "execute_result"
    }
   ],
   "source": [
    "cc_icd_chapter=pd.read_csv('cc_icd_chapter.csv',usecols=['TEXT','ICD9_CHAPTER'])\n",
    "cc_icd_chapter=cc_icd_chapter.dropna()\n",
    "cc_icd_chapter = cc_icd_chapter.reset_index(drop=True)\n",
    "cc_icd_chapter"
   ]
  },
  {
   "cell_type": "code",
   "execution_count": 3,
   "id": "b2207ac9",
   "metadata": {},
   "outputs": [
    {
     "data": {
      "text/plain": [
       "<AxesSubplot:>"
      ]
     },
     "execution_count": 3,
     "metadata": {},
     "output_type": "execute_result"
    },
    {
     "data": {
      "image/png": "[encoded data removed]",
      "text/plain": [
       "<Figure size 432x288 with 1 Axes>"
      ]
     },
     "metadata": {
      "needs_background": "light"
     },
     "output_type": "display_data"
    }
   ],
   "source": [
    "cc_icd_chapter['ICD9_CHAPTER'].value_counts()[:17].plot(kind='barh')"
   ]
  },
  {
   "cell_type": "code",
   "execution_count": 17,
   "id": "ed874590",
   "metadata": {},
   "outputs": [],
   "source": [
    "# counts = dict()\n",
    "# # counts = (['001-139','140-239','240-279','280-289', '290-319', '320-389', '390-459','460-519','520-579', '580-629', \n",
    "# #     '630-679','680-709','710-739','740-759','760-779','780-799','800-999'])\n",
    "\n",
    "# cc_icd_500 = pd.DataFrame(columns=['TEXT','ICD9_CHAPTER'])\n",
    "# for i in range(0,75940):\n",
    "#     cur = cc_icd_chapter['ICD9_CHAPTER'].iloc[i]\n",
    "#     counts[cur] = counts.get(cur, 0) + 1\n",
    "#     if counts[cur] > 100:\n",
    "#         continue\n",
    "#     else:\n",
    "#         cc_icd_500=cc_icd_500.append({\n",
    "#                         'TEXT': cc_icd_chapter['TEXT'].iloc[i],\n",
    "#                         'ICD9_CHAPTER' : cur\n",
    "#                         },ignore_index=True)"
   ]
  },
  {
   "cell_type": "code",
   "execution_count": 4,
   "id": "a987e3ef",
   "metadata": {},
   "outputs": [
    {
     "data": {
      "text/plain": [
       "0    81 yo F smoker w/ COPD, severe TBM, s/p trache...\n",
       "1                COPD exacerbation/Shortness of Breath\n",
       "2    Mr. [**Known lastname 1829**] was seen at [**H...\n",
       "3                                           Meningioma\n",
       "4                                              Hypoxia\n",
       "Name: TEXT, dtype: object"
      ]
     },
     "execution_count": 4,
     "metadata": {},
     "output_type": "execute_result"
    }
   ],
   "source": [
    "x=cc_icd_chapter['TEXT']\n",
    "x.head()"
   ]
  },
  {
   "cell_type": "code",
   "execution_count": 5,
   "id": "c558fe92",
   "metadata": {},
   "outputs": [
    {
     "data": {
      "text/plain": [
       "0    390-459\n",
       "1    390-459\n",
       "2    520-579\n",
       "3    240-279\n",
       "4    390-459\n",
       "Name: ICD9_CHAPTER, dtype: object"
      ]
     },
     "execution_count": 5,
     "metadata": {},
     "output_type": "execute_result"
    }
   ],
   "source": [
    "y=cc_icd_chapter['ICD9_CHAPTER']\n",
    "y.head()"
   ]
  },
  {
   "cell_type": "code",
   "execution_count": 6,
   "id": "27fc7b39",
   "metadata": {},
   "outputs": [],
   "source": [
    "# import re\n",
    "\n",
    "# text_list=[]\n",
    "# for text in x:\n",
    "#     cur_text = re.sub('[^a-zA-Z]',' ',text) # only English \n",
    "#     cur_text = cur_text.lower()\n",
    "#     cur_text = cur_text.split()\n",
    "#     cur_text = ' '.join(cur_text)\n",
    "#     text_list.append(cur_text)\n",
    "    \n",
    "# from keras.preprocessing.text import one_hot\n",
    "# from keras.preprocessing.sequence import pad_sequences\n",
    "\n",
    "# w_vec = [one_hot(word,10000)for word in text_list]\n",
    "# w_vec = np.array(w_vec) \n",
    "# length = 218\n",
    "# embed = pad_sequences(w_vec, padding='pre', maxlen=length)\n",
    "# embed.shape"
   ]
  },
  {
   "cell_type": "code",
   "execution_count": 7,
   "id": "a5aa97fa",
   "metadata": {},
   "outputs": [
    {
     "data": {
      "text/plain": [
       "(75940, 218)"
      ]
     },
     "execution_count": 7,
     "metadata": {},
     "output_type": "execute_result"
    }
   ],
   "source": [
    "from sklearn.feature_extraction.text import CountVectorizer, TfidfVectorizer\n",
    "\n",
    "word_vectorizer = TfidfVectorizer(\n",
    "    sublinear_tf=True,\n",
    "    strip_accents='unicode',\n",
    "    analyzer='word',\n",
    "    token_pattern=r'\\w{1,}',\n",
    "    stop_words='english',\n",
    "    ngram_range=(1, 1),\n",
    "    max_features=218)\n",
    "word_vectorizer.fit(x)\n",
    "\n",
    "word_v=word_vectorizer.transform(x)\n",
    "embed=word_v.toarray()*9999\n",
    "embed.shape"
   ]
  },
  {
   "cell_type": "code",
   "execution_count": 8,
   "id": "71db57f3",
   "metadata": {},
   "outputs": [],
   "source": [
    "yv=np.zeros((embed.shape[0],17))\n",
    "\n",
    "# from sklearn.preprocessing import LabelEncoder\n",
    "# lb = LabelEncoder()\n",
    "# yv = lb.fit_transform(yv)\n",
    "\n",
    "chapter = ['001-139','140-239','240-279','280-289', '290-319', '320-389', '390-459','460-519','520-579', '580-629', \n",
    "    '630-679','680-709','710-739','740-759','760-779','780-799','800-999']\n",
    "for i in range(0,embed.shape[0]):\n",
    "    index = chapter.index(y[i])\n",
    "    yv[i,index]=1"
   ]
  },
  {
   "cell_type": "code",
   "execution_count": 9,
   "id": "f12aee10",
   "metadata": {},
   "outputs": [
    {
     "name": "stderr",
     "output_type": "stream",
     "text": [
      "Using TensorFlow backend.\n",
      "2022-05-08 20:34:23.353917: I tensorflow/core/platform/cpu_feature_guard.cc:145] This TensorFlow binary is optimized with Intel(R) MKL-DNN to use the following CPU instructions in performance critical operations:  SSE4.1 SSE4.2 AVX AVX2 FMA\n",
      "To enable them in non-MKL-DNN operations, rebuild TensorFlow with the appropriate compiler flags.\n",
      "2022-05-08 20:34:23.354149: I tensorflow/core/common_runtime/process_util.cc:115] Creating new thread pool with default inter op setting: 4. Tune using inter_op_parallelism_threads for best performance.\n"
     ]
    },
    {
     "name": "stdout",
     "output_type": "stream",
     "text": [
      "Model: \"sequential\"\n",
      "_________________________________________________________________\n",
      "Layer (type)                 Output Shape              Param #   \n",
      "=================================================================\n",
      "embedding (Embedding)        (None, 218, 200)          2000000   \n",
      "_________________________________________________________________\n",
      "conv1d (Conv1D)              (None, 218, 400)          80400     \n",
      "_________________________________________________________________\n",
      "max_pooling1d (MaxPooling1D) (None, 1, 400)            0         \n",
      "_________________________________________________________________\n",
      "flatten (Flatten)            (None, 400)               0         \n",
      "_________________________________________________________________\n",
      "dropout (Dropout)            (None, 400)               0         \n",
      "_________________________________________________________________\n",
      "dense (Dense)                (None, 17)                6817      \n",
      "_________________________________________________________________\n",
      "dropout_1 (Dropout)          (None, 17)                0         \n",
      "=================================================================\n",
      "Total params: 2,087,217\n",
      "Trainable params: 2,087,217\n",
      "Non-trainable params: 0\n",
      "_________________________________________________________________\n",
      "None\n"
     ]
    }
   ],
   "source": [
    "from keras.models import Sequential\n",
    "from keras.layers import Dropout, Embedding, LSTM, Conv1D, MaxPooling1D, Flatten, Dense\n",
    "from keras.layers.normalization import BatchNormalization\n",
    "\n",
    "model=Sequential()\n",
    "model.add(Embedding(input_dim=10000,output_dim=200,input_length=218))\n",
    "model.add(Conv1D(kernel_size=1, filters=400,padding='valid',activation='relu'))\n",
    "# model.add(Conv1D(kernel_size=1, filters=400,padding='valid',activation='relu'))\n",
    "# model.add(Conv1D(kernel_size=1, filters=400,padding='valid',activation='relu'))\n",
    "# model.add(Conv1D(kernel_size=1, filters=400,padding='valid',activation='relu'))\n",
    "# model.add(Conv1D(kernel_size=1, filters=400,padding='valid',activation='relu'))\n",
    "model.add(MaxPooling1D(pool_size=218))\n",
    "model.add(Flatten())\n",
    "model.add(Dropout(rate=0.5))\n",
    "model.add(Dense(units = 17,activation='sigmoid'))\n",
    "model.add(Dropout(rate=0.5))\n",
    "model.compile(loss='binary_crossentropy',optimizer='adam', metrics=['accuracy'])\n",
    "print(model.summary())"
   ]
  },
  {
   "cell_type": "code",
   "execution_count": 10,
   "id": "fa912b9f",
   "metadata": {},
   "outputs": [],
   "source": [
    "from sklearn.model_selection import train_test_split\n",
    "x_train,x_test,y_train,y_test=train_test_split(embed,yv,test_size=0.3, random_state=1)"
   ]
  },
  {
   "cell_type": "code",
   "execution_count": 11,
   "id": "433569e1",
   "metadata": {},
   "outputs": [
    {
     "name": "stdout",
     "output_type": "stream",
     "text": [
      "Train on 53158 samples, validate on 22782 samples\n",
      "Epoch 1/5\n",
      "53158/53158 [==============================] - 170s 3ms/sample - loss: 0.6984 - accuracy: 0.8772 - val_loss: 0.2165 - val_accuracy: 0.9412\n",
      "Epoch 2/5\n",
      "53158/53158 [==============================] - 170s 3ms/sample - loss: 0.5595 - accuracy: 0.9412 - val_loss: 0.2157 - val_accuracy: 0.9412\n",
      "Epoch 3/5\n",
      "53158/53158 [==============================] - 169s 3ms/sample - loss: 0.5592 - accuracy: 0.9412 - val_loss: 0.2159 - val_accuracy: 0.9412\n",
      "Epoch 4/5\n",
      "53158/53158 [==============================] - 170s 3ms/sample - loss: 0.5550 - accuracy: 0.9412 - val_loss: 0.2147 - val_accuracy: 0.9412\n",
      "Epoch 5/5\n",
      "53158/53158 [==============================] - 170s 3ms/sample - loss: 0.5574 - accuracy: 0.9412 - val_loss: 0.2146 - val_accuracy: 0.9412\n"
     ]
    }
   ],
   "source": [
    "m = model.fit(x_train,y_train,validation_data=(x_test,y_test),epochs=5,batch_size=100)"
   ]
  },
  {
   "cell_type": "code",
   "execution_count": 12,
   "id": "978a083e",
   "metadata": {},
   "outputs": [],
   "source": [
    "predict_x=model.predict(x_test) "
   ]
  },
  {
   "cell_type": "code",
   "execution_count": 13,
   "id": "8454dc4a",
   "metadata": {},
   "outputs": [
    {
     "data": {
      "text/plain": [
       "array([[0.01609188, 0.01229012, 0.05754665, ..., 0.01472524, 0.0255484 ,\n",
       "        0.03507364],\n",
       "       [0.01464   , 0.01560938, 0.05801457, ..., 0.01745555, 0.02198619,\n",
       "        0.03425834],\n",
       "       [0.01054257, 0.00662795, 0.08056772, ..., 0.00779715, 0.02001184,\n",
       "        0.02257916],\n",
       "       ...,\n",
       "       [0.015376  , 0.01578143, 0.05721858, ..., 0.02195472, 0.02285013,\n",
       "        0.03832996],\n",
       "       [0.01321343, 0.01126015, 0.0716936 , ..., 0.0116387 , 0.02411622,\n",
       "        0.0357984 ],\n",
       "       [0.01468429, 0.01561433, 0.05822185, ..., 0.01564315, 0.02451331,\n",
       "        0.03575116]], dtype=float32)"
      ]
     },
     "execution_count": 13,
     "metadata": {},
     "output_type": "execute_result"
    }
   ],
   "source": [
    "predict_x"
   ]
  },
  {
   "cell_type": "code",
   "execution_count": 14,
   "id": "db00d2f2",
   "metadata": {},
   "outputs": [
    {
     "data": {
      "text/plain": [
       "(22782, 17)"
      ]
     },
     "execution_count": 14,
     "metadata": {},
     "output_type": "execute_result"
    }
   ],
   "source": [
    "pred_labels = np.zeros((x_test.shape[0],17))\n",
    "for i in range(0,len(predict_x)):\n",
    "    m_i = np.where(predict_x[1]==np.max(predict_x[1]))\n",
    "    pred_labels[i][m_i] = 1\n",
    "pred_labels.shape"
   ]
  },
  {
   "cell_type": "code",
   "execution_count": 15,
   "id": "77251e23",
   "metadata": {},
   "outputs": [
    {
     "name": "stdout",
     "output_type": "stream",
     "text": [
      "Accuracy score 0.24817838644543938\n",
      "Micro precision 0.24817838644543938\n",
      "Micro recall 0.24817838644543938\n",
      "Micro f1-score 0.24817838644543938\n"
     ]
    },
    {
     "name": "stderr",
     "output_type": "stream",
     "text": [
      "/Users/gaoyueyi/opt/anaconda3/envs/cs/lib/python3.7/site-packages/sklearn/metrics/_classification.py:1318: UndefinedMetricWarning: Precision is ill-defined and being set to 0.0 in labels with no predicted samples. Use `zero_division` parameter to control this behavior.\n",
      "  _warn_prf(average, modifier, msg_start, len(result))\n"
     ]
    },
    {
     "name": "stdout",
     "output_type": "stream",
     "text": [
      "Macro precision 0.01459872861443761\n",
      "Macro recall 0.058823529411764705\n",
      "Macro f1-score 0.02339205481038948\n",
      "Weighted precision 0.06159251149866185\n",
      "Weighted recall 0.24817838644543938\n",
      "Weighted f1-score 0.09869184111425756\n"
     ]
    },
    {
     "name": "stderr",
     "output_type": "stream",
     "text": [
      "/Users/gaoyueyi/opt/anaconda3/envs/cs/lib/python3.7/site-packages/sklearn/metrics/_classification.py:1318: UndefinedMetricWarning: Precision is ill-defined and being set to 0.0 in labels with no predicted samples. Use `zero_division` parameter to control this behavior.\n",
      "  _warn_prf(average, modifier, msg_start, len(result))\n"
     ]
    }
   ],
   "source": [
    "from sklearn.metrics import accuracy_score, precision_score, recall_score, f1_score\n",
    "\n",
    "print('Accuracy score', accuracy_score(y_test, pred_labels))\n",
    "print('Micro precision', precision_score(y_test, pred_labels, average='micro'))\n",
    "print('Micro recall', recall_score(y_test, pred_labels, average='micro'))\n",
    "print('Micro f1-score', f1_score(y_test, pred_labels, average='micro'))\n",
    "print('Macro precision', precision_score(y_test, pred_labels, average='macro'))\n",
    "print('Macro recall', recall_score(y_test, pred_labels, average='macro'))\n",
    "print('Macro f1-score', f1_score(y_test, pred_labels, average='macro'))\n",
    "print('Weighted precision', precision_score(y_test, pred_labels, average='weighted'))\n",
    "print('Weighted recall', recall_score(y_test, pred_labels, average='weighted'))\n",
    "print('Weighted f1-score', f1_score(y_test, pred_labels, average='weighted'))"
   ]
  },
  {
   "cell_type": "code",
   "execution_count": 16,
   "id": "c3040239",
   "metadata": {},
   "outputs": [
    {
     "name": "stdout",
     "output_type": "stream",
     "text": [
      "Accuracy score 0.24931336769630158\n",
      "Micro precision 0.24931336769630158\n",
      "Micro recall 0.24931336769630158\n",
      "Micro f1-score 0.24931336769630158\n"
     ]
    },
    {
     "name": "stderr",
     "output_type": "stream",
     "text": [
      "/Users/gaoyueyi/opt/anaconda3/envs/cs/lib/python3.7/site-packages/sklearn/metrics/_classification.py:1318: UndefinedMetricWarning: Precision is ill-defined and being set to 0.0 in labels with no predicted samples. Use `zero_division` parameter to control this behavior.\n",
      "  _warn_prf(average, modifier, msg_start, len(result))\n"
     ]
    },
    {
     "name": "stdout",
     "output_type": "stream",
     "text": [
      "Macro precision 0.014665492217429505\n",
      "Macro recall 0.058823529411764705\n",
      "Macro f1-score 0.023477683976874844\n",
      "Weighted precision 0.06215715531207128\n"
     ]
    },
    {
     "name": "stderr",
     "output_type": "stream",
     "text": [
      "/Users/gaoyueyi/opt/anaconda3/envs/cs/lib/python3.7/site-packages/sklearn/metrics/_classification.py:1318: UndefinedMetricWarning: Precision is ill-defined and being set to 0.0 in labels with no predicted samples. Use `zero_division` parameter to control this behavior.\n",
      "  _warn_prf(average, modifier, msg_start, len(result))\n"
     ]
    },
    {
     "name": "stdout",
     "output_type": "stream",
     "text": [
      "Weighted recall 0.24931336769630158\n",
      "Weighted f1-score 0.09950610778573082\n"
     ]
    }
   ],
   "source": [
    "predict_xt=model.predict(x_train) \n",
    "\n",
    "for i in range(0,len(predict_xt)):\n",
    "    m_i = np.where(predict_xt[1]==np.max(predict_xt[1]))\n",
    "    predict_xt[i][m_i] = 1\n",
    "pred_tlabels = np.round(predict_xt).astype(int)\n",
    "\n",
    "from sklearn.metrics import accuracy_score, precision_score, recall_score, f1_score\n",
    "\n",
    "print('Accuracy score', accuracy_score(y_train, pred_tlabels))\n",
    "print('Micro precision', precision_score(y_train, pred_tlabels, average='micro'))\n",
    "print('Micro recall', recall_score(y_train, pred_tlabels, average='micro'))\n",
    "print('Micro f1-score', f1_score(y_train, pred_tlabels, average='micro'))\n",
    "print('Macro precision', precision_score(y_train, pred_tlabels, average='macro'))\n",
    "print('Macro recall', recall_score(y_train, pred_tlabels, average='macro'))\n",
    "print('Macro f1-score', f1_score(y_train, pred_tlabels, average='macro'))\n",
    "print('Weighted precision', precision_score(y_train, pred_tlabels, average='weighted'))\n",
    "print('Weighted recall', recall_score(y_train, pred_tlabels, average='weighted'))\n",
    "print('Weighted f1-score', f1_score(y_train, pred_tlabels, average='weighted'))"
   ]
  },
  {
   "cell_type": "code",
   "execution_count": null,
   "id": "06781a88",
   "metadata": {},
   "outputs": [],
   "source": []
  },
  {
   "cell_type": "code",
   "execution_count": null,
   "id": "ded41b0f",
   "metadata": {},
   "outputs": [],
   "source": []
  }
 ],
 "metadata": {
  "kernelspec": {
   "display_name": "Python 3 (ipykernel)",
   "language": "python",
   "name": "python3"
  },
  "language_info": {
   "codemirror_mode": {
    "name": "ipython",
    "version": 3
   },
   "file_extension": ".py",
   "mimetype": "text/x-python",
   "name": "python",
   "nbconvert_exporter": "python",
   "pygments_lexer": "ipython3",
   "version": "3.7.13"
  }
 },
 "nbformat": 4,
 "nbformat_minor": 5
}
